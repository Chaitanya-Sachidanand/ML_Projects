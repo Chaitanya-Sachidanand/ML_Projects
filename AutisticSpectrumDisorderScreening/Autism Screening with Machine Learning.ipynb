{
 "cells": [
  {
   "source": [
    "### Childhood Autistic Spectrum Disorder Screening using Machine Learning\n",
    "\n",
    "\n",
    "\n",
    "![title](unnamed.jpg)\n",
    "\n",
    "Autism spectrum disorder (ASD) refers to a range of conditions characterised by some degree of impaired social behaviour, communication and language, and a narrow range of interests and activities that are both unique to the individual and carried out repetitively.\n",
    "\n",
    "ASDs begin in childhood and tend to persist into adolescence and adulthood. In most cases the conditions are apparent during the first 5 years of life.\n",
    "\n",
    "Individuals with ASD often present other co-occurring conditions, including epilepsy, depression, anxiety and attention deficit hyperactivity disorder (ADHD). The level of intellectual functioning in individuals with ASDs is extremely variable, extending from profound impairment to superior levels.\n",
    "\n",
    "![title](20192020graph.jpg)\n",
    "\n",
    "This graph above shows that the symptoms of this disorder is also see to be grater amongst students as well over the years. So it is important look into this at a young age itself.\n",
    "\n",
    "![title](AutismAwareness2stats.jpg)\n",
    "\n",
    "The early diagnosis of neurodevelopment disorders can improve treatment and significantly decrease the associated \n",
    "healthcare costs. In this project, i have used supervised learning classification algorithem to diagnose Autistic Spectrum Disorder \n",
    "(ASD) based on behavioural features and individual characteristics. More specifically, we will build and deploy a neural network using the Keras API. \n",
    "\n",
    "This project will use a dataset provided by the UCI Machine Learning Repository that contains screening data for 292 patients. The dataset can be found at the following URL: \n",
    "https://archive.ics.uci.edu/ml/datasets/Autistic+Spectrum+Disorder+Screening+Data+for+Children++\n",
    "\n"
   ],
   "cell_type": "markdown",
   "metadata": {}
  },
  {
   "cell_type": "code",
   "execution_count": 1,
   "metadata": {},
   "outputs": [],
   "source": [
    "import sys\n",
    "import pandas as pd\n",
    "import numpy as np\n",
    "import os\n"
   ]
  },
  {
   "cell_type": "markdown",
   "metadata": {},
   "source": [
    "### Importing the Dataset\n",
    "\n",
    "Original the Dataset dosent contain a CSV fotmat of data i have manually converted it and placed in the file structure for the project"
   ]
  },
  {
   "cell_type": "code",
   "execution_count": 2,
   "metadata": {},
   "outputs": [],
   "source": [
    "# import the dataset\n",
    "data =pd.read_csv('Autism-Child-Data.csv')"
   ]
  },
  {
   "cell_type": "code",
   "execution_count": 3,
   "metadata": {
    "tags": []
   },
   "outputs": [
    {
     "output_type": "stream",
     "name": "stdout",
     "text": "Shape of DataFrame: (292, 22)\nid                          1\nA1_Score                    1\nA2_Score                    1\nA3_Score                    0\nA4_Score                    0\nA5_Score                    1\nA6_Score                    1\nA7_Score                    0\nA8_Score                    1\nA9_Score                    0\nA10_Score                   0\nage                         6\ngender                      m\nethnicity              Others\njundice                    no\naustim                     no\ncontry_of_res          Jordan\nused_app_before            no\nresult                      5\nage_desc           4-11 years\nrelation               Parent\nClass/ASD                  NO\nName: 0, dtype: object\n"
    }
   ],
   "source": [
    "# It print the shape of the DataFrame, so we can see how many examples we have\n",
    "print ('Shape of DataFrame: {}'.format(data.shape))\n",
    "print (data.loc[0])"
   ]
  },
  {
   "cell_type": "code",
   "execution_count": 4,
   "metadata": {},
   "outputs": [
    {
     "output_type": "execute_result",
     "data": {
      "text/plain": "    id  A1_Score  A2_Score  A3_Score  A4_Score  A5_Score  A6_Score  A7_Score  \\\n0    1         1         1         0         0         1         1         0   \n1    2         1         1         0         0         1         1         0   \n2    3         1         1         0         0         0         1         1   \n3    4         0         1         0         0         1         1         0   \n4    5         1         1         1         1         1         1         1   \n5    6         0         0         1         0         1         1         0   \n6    7         1         0         1         1         1         1         0   \n7    8         1         1         1         1         1         1         1   \n8    9         1         1         1         1         1         1         1   \n9   10         0         0         1         1         1         0         1   \n10  11         1         0         0         0         1         1         1   \n\n    A8_Score  A9_Score  ...  gender        ethnicity jundice austim  \\\n0          1         0  ...       m           Others      no     no   \n1          1         0  ...       m  Middle Eastern       no     no   \n2          1         0  ...       m                ?      no     no   \n3          0         0  ...       f                ?     yes     no   \n4          1         1  ...       m           Others     yes     no   \n5          1         0  ...       m                ?      no    yes   \n6          1         0  ...       m   White-European      no     no   \n7          1         0  ...       f  Middle Eastern       no     no   \n8          0         0  ...       f  Middle Eastern       no     no   \n9          1         0  ...       f                ?      no    yes   \n10         1         1  ...       m   White-European     yes     no   \n\n     contry_of_res used_app_before result    age_desc  relation Class/ASD  \n0           Jordan              no      5  4-11 years    Parent        NO  \n1           Jordan              no      5  4-11 years    Parent        NO  \n2           Jordan             yes      5  4-11 years         ?        NO  \n3           Jordan              no      4  4-11 years         ?        NO  \n4    United States              no     10  4-11 years    Parent       YES  \n5            Egypt              no      5  4-11 years         ?        NO  \n6   United Kingdom              no      7  4-11 years    Parent       YES  \n7          Bahrain              no      8  4-11 years    Parent       YES  \n8          Bahrain              no      7  4-11 years    Parent       YES  \n9          Austria              no      5  4-11 years         ?        NO  \n10  United Kingdom              no      7  4-11 years      Self       YES  \n\n[11 rows x 22 columns]",
      "text/html": "<div>\n<style scoped>\n    .dataframe tbody tr th:only-of-type {\n        vertical-align: middle;\n    }\n\n    .dataframe tbody tr th {\n        vertical-align: top;\n    }\n\n    .dataframe thead th {\n        text-align: right;\n    }\n</style>\n<table border=\"1\" class=\"dataframe\">\n  <thead>\n    <tr style=\"text-align: right;\">\n      <th></th>\n      <th>id</th>\n      <th>A1_Score</th>\n      <th>A2_Score</th>\n      <th>A3_Score</th>\n      <th>A4_Score</th>\n      <th>A5_Score</th>\n      <th>A6_Score</th>\n      <th>A7_Score</th>\n      <th>A8_Score</th>\n      <th>A9_Score</th>\n      <th>...</th>\n      <th>gender</th>\n      <th>ethnicity</th>\n      <th>jundice</th>\n      <th>austim</th>\n      <th>contry_of_res</th>\n      <th>used_app_before</th>\n      <th>result</th>\n      <th>age_desc</th>\n      <th>relation</th>\n      <th>Class/ASD</th>\n    </tr>\n  </thead>\n  <tbody>\n    <tr>\n      <th>0</th>\n      <td>1</td>\n      <td>1</td>\n      <td>1</td>\n      <td>0</td>\n      <td>0</td>\n      <td>1</td>\n      <td>1</td>\n      <td>0</td>\n      <td>1</td>\n      <td>0</td>\n      <td>...</td>\n      <td>m</td>\n      <td>Others</td>\n      <td>no</td>\n      <td>no</td>\n      <td>Jordan</td>\n      <td>no</td>\n      <td>5</td>\n      <td>4-11 years</td>\n      <td>Parent</td>\n      <td>NO</td>\n    </tr>\n    <tr>\n      <th>1</th>\n      <td>2</td>\n      <td>1</td>\n      <td>1</td>\n      <td>0</td>\n      <td>0</td>\n      <td>1</td>\n      <td>1</td>\n      <td>0</td>\n      <td>1</td>\n      <td>0</td>\n      <td>...</td>\n      <td>m</td>\n      <td>Middle Eastern</td>\n      <td>no</td>\n      <td>no</td>\n      <td>Jordan</td>\n      <td>no</td>\n      <td>5</td>\n      <td>4-11 years</td>\n      <td>Parent</td>\n      <td>NO</td>\n    </tr>\n    <tr>\n      <th>2</th>\n      <td>3</td>\n      <td>1</td>\n      <td>1</td>\n      <td>0</td>\n      <td>0</td>\n      <td>0</td>\n      <td>1</td>\n      <td>1</td>\n      <td>1</td>\n      <td>0</td>\n      <td>...</td>\n      <td>m</td>\n      <td>?</td>\n      <td>no</td>\n      <td>no</td>\n      <td>Jordan</td>\n      <td>yes</td>\n      <td>5</td>\n      <td>4-11 years</td>\n      <td>?</td>\n      <td>NO</td>\n    </tr>\n    <tr>\n      <th>3</th>\n      <td>4</td>\n      <td>0</td>\n      <td>1</td>\n      <td>0</td>\n      <td>0</td>\n      <td>1</td>\n      <td>1</td>\n      <td>0</td>\n      <td>0</td>\n      <td>0</td>\n      <td>...</td>\n      <td>f</td>\n      <td>?</td>\n      <td>yes</td>\n      <td>no</td>\n      <td>Jordan</td>\n      <td>no</td>\n      <td>4</td>\n      <td>4-11 years</td>\n      <td>?</td>\n      <td>NO</td>\n    </tr>\n    <tr>\n      <th>4</th>\n      <td>5</td>\n      <td>1</td>\n      <td>1</td>\n      <td>1</td>\n      <td>1</td>\n      <td>1</td>\n      <td>1</td>\n      <td>1</td>\n      <td>1</td>\n      <td>1</td>\n      <td>...</td>\n      <td>m</td>\n      <td>Others</td>\n      <td>yes</td>\n      <td>no</td>\n      <td>United States</td>\n      <td>no</td>\n      <td>10</td>\n      <td>4-11 years</td>\n      <td>Parent</td>\n      <td>YES</td>\n    </tr>\n    <tr>\n      <th>5</th>\n      <td>6</td>\n      <td>0</td>\n      <td>0</td>\n      <td>1</td>\n      <td>0</td>\n      <td>1</td>\n      <td>1</td>\n      <td>0</td>\n      <td>1</td>\n      <td>0</td>\n      <td>...</td>\n      <td>m</td>\n      <td>?</td>\n      <td>no</td>\n      <td>yes</td>\n      <td>Egypt</td>\n      <td>no</td>\n      <td>5</td>\n      <td>4-11 years</td>\n      <td>?</td>\n      <td>NO</td>\n    </tr>\n    <tr>\n      <th>6</th>\n      <td>7</td>\n      <td>1</td>\n      <td>0</td>\n      <td>1</td>\n      <td>1</td>\n      <td>1</td>\n      <td>1</td>\n      <td>0</td>\n      <td>1</td>\n      <td>0</td>\n      <td>...</td>\n      <td>m</td>\n      <td>White-European</td>\n      <td>no</td>\n      <td>no</td>\n      <td>United Kingdom</td>\n      <td>no</td>\n      <td>7</td>\n      <td>4-11 years</td>\n      <td>Parent</td>\n      <td>YES</td>\n    </tr>\n    <tr>\n      <th>7</th>\n      <td>8</td>\n      <td>1</td>\n      <td>1</td>\n      <td>1</td>\n      <td>1</td>\n      <td>1</td>\n      <td>1</td>\n      <td>1</td>\n      <td>1</td>\n      <td>0</td>\n      <td>...</td>\n      <td>f</td>\n      <td>Middle Eastern</td>\n      <td>no</td>\n      <td>no</td>\n      <td>Bahrain</td>\n      <td>no</td>\n      <td>8</td>\n      <td>4-11 years</td>\n      <td>Parent</td>\n      <td>YES</td>\n    </tr>\n    <tr>\n      <th>8</th>\n      <td>9</td>\n      <td>1</td>\n      <td>1</td>\n      <td>1</td>\n      <td>1</td>\n      <td>1</td>\n      <td>1</td>\n      <td>1</td>\n      <td>0</td>\n      <td>0</td>\n      <td>...</td>\n      <td>f</td>\n      <td>Middle Eastern</td>\n      <td>no</td>\n      <td>no</td>\n      <td>Bahrain</td>\n      <td>no</td>\n      <td>7</td>\n      <td>4-11 years</td>\n      <td>Parent</td>\n      <td>YES</td>\n    </tr>\n    <tr>\n      <th>9</th>\n      <td>10</td>\n      <td>0</td>\n      <td>0</td>\n      <td>1</td>\n      <td>1</td>\n      <td>1</td>\n      <td>0</td>\n      <td>1</td>\n      <td>1</td>\n      <td>0</td>\n      <td>...</td>\n      <td>f</td>\n      <td>?</td>\n      <td>no</td>\n      <td>yes</td>\n      <td>Austria</td>\n      <td>no</td>\n      <td>5</td>\n      <td>4-11 years</td>\n      <td>?</td>\n      <td>NO</td>\n    </tr>\n    <tr>\n      <th>10</th>\n      <td>11</td>\n      <td>1</td>\n      <td>0</td>\n      <td>0</td>\n      <td>0</td>\n      <td>1</td>\n      <td>1</td>\n      <td>1</td>\n      <td>1</td>\n      <td>1</td>\n      <td>...</td>\n      <td>m</td>\n      <td>White-European</td>\n      <td>yes</td>\n      <td>no</td>\n      <td>United Kingdom</td>\n      <td>no</td>\n      <td>7</td>\n      <td>4-11 years</td>\n      <td>Self</td>\n      <td>YES</td>\n    </tr>\n  </tbody>\n</table>\n<p>11 rows × 22 columns</p>\n</div>"
     },
     "metadata": {},
     "execution_count": 4
    }
   ],
   "source": [
    "# This print out multiple patients at the same time\n",
    "data.loc[:10]"
   ]
  },
  {
   "cell_type": "code",
   "execution_count": 5,
   "metadata": {},
   "outputs": [
    {
     "output_type": "execute_result",
     "data": {
      "text/plain": "               id    A1_Score    A2_Score    A3_Score    A4_Score    A5_Score  \\\ncount  292.000000  292.000000  292.000000  292.000000  292.000000  292.000000   \nmean   146.500000    0.633562    0.534247    0.743151    0.551370    0.743151   \nstd     84.437354    0.482658    0.499682    0.437646    0.498208    0.437646   \nmin      1.000000    0.000000    0.000000    0.000000    0.000000    0.000000   \n25%     73.750000    0.000000    0.000000    0.000000    0.000000    0.000000   \n50%    146.500000    1.000000    1.000000    1.000000    1.000000    1.000000   \n75%    219.250000    1.000000    1.000000    1.000000    1.000000    1.000000   \nmax    292.000000    1.000000    1.000000    1.000000    1.000000    1.000000   \n\n         A6_Score    A7_Score    A8_Score    A9_Score   A10_Score      result  \ncount  292.000000  292.000000  292.000000  292.000000  292.000000  292.000000  \nmean     0.712329    0.606164    0.496575    0.493151    0.726027    6.239726  \nstd      0.453454    0.489438    0.500847    0.500811    0.446761    2.284882  \nmin      0.000000    0.000000    0.000000    0.000000    0.000000    0.000000  \n25%      0.000000    0.000000    0.000000    0.000000    0.000000    5.000000  \n50%      1.000000    1.000000    0.000000    0.000000    1.000000    6.000000  \n75%      1.000000    1.000000    1.000000    1.000000    1.000000    8.000000  \nmax      1.000000    1.000000    1.000000    1.000000    1.000000   10.000000  ",
      "text/html": "<div>\n<style scoped>\n    .dataframe tbody tr th:only-of-type {\n        vertical-align: middle;\n    }\n\n    .dataframe tbody tr th {\n        vertical-align: top;\n    }\n\n    .dataframe thead th {\n        text-align: right;\n    }\n</style>\n<table border=\"1\" class=\"dataframe\">\n  <thead>\n    <tr style=\"text-align: right;\">\n      <th></th>\n      <th>id</th>\n      <th>A1_Score</th>\n      <th>A2_Score</th>\n      <th>A3_Score</th>\n      <th>A4_Score</th>\n      <th>A5_Score</th>\n      <th>A6_Score</th>\n      <th>A7_Score</th>\n      <th>A8_Score</th>\n      <th>A9_Score</th>\n      <th>A10_Score</th>\n      <th>result</th>\n    </tr>\n  </thead>\n  <tbody>\n    <tr>\n      <th>count</th>\n      <td>292.000000</td>\n      <td>292.000000</td>\n      <td>292.000000</td>\n      <td>292.000000</td>\n      <td>292.000000</td>\n      <td>292.000000</td>\n      <td>292.000000</td>\n      <td>292.000000</td>\n      <td>292.000000</td>\n      <td>292.000000</td>\n      <td>292.000000</td>\n      <td>292.000000</td>\n    </tr>\n    <tr>\n      <th>mean</th>\n      <td>146.500000</td>\n      <td>0.633562</td>\n      <td>0.534247</td>\n      <td>0.743151</td>\n      <td>0.551370</td>\n      <td>0.743151</td>\n      <td>0.712329</td>\n      <td>0.606164</td>\n      <td>0.496575</td>\n      <td>0.493151</td>\n      <td>0.726027</td>\n      <td>6.239726</td>\n    </tr>\n    <tr>\n      <th>std</th>\n      <td>84.437354</td>\n      <td>0.482658</td>\n      <td>0.499682</td>\n      <td>0.437646</td>\n      <td>0.498208</td>\n      <td>0.437646</td>\n      <td>0.453454</td>\n      <td>0.489438</td>\n      <td>0.500847</td>\n      <td>0.500811</td>\n      <td>0.446761</td>\n      <td>2.284882</td>\n    </tr>\n    <tr>\n      <th>min</th>\n      <td>1.000000</td>\n      <td>0.000000</td>\n      <td>0.000000</td>\n      <td>0.000000</td>\n      <td>0.000000</td>\n      <td>0.000000</td>\n      <td>0.000000</td>\n      <td>0.000000</td>\n      <td>0.000000</td>\n      <td>0.000000</td>\n      <td>0.000000</td>\n      <td>0.000000</td>\n    </tr>\n    <tr>\n      <th>25%</th>\n      <td>73.750000</td>\n      <td>0.000000</td>\n      <td>0.000000</td>\n      <td>0.000000</td>\n      <td>0.000000</td>\n      <td>0.000000</td>\n      <td>0.000000</td>\n      <td>0.000000</td>\n      <td>0.000000</td>\n      <td>0.000000</td>\n      <td>0.000000</td>\n      <td>5.000000</td>\n    </tr>\n    <tr>\n      <th>50%</th>\n      <td>146.500000</td>\n      <td>1.000000</td>\n      <td>1.000000</td>\n      <td>1.000000</td>\n      <td>1.000000</td>\n      <td>1.000000</td>\n      <td>1.000000</td>\n      <td>1.000000</td>\n      <td>0.000000</td>\n      <td>0.000000</td>\n      <td>1.000000</td>\n      <td>6.000000</td>\n    </tr>\n    <tr>\n      <th>75%</th>\n      <td>219.250000</td>\n      <td>1.000000</td>\n      <td>1.000000</td>\n      <td>1.000000</td>\n      <td>1.000000</td>\n      <td>1.000000</td>\n      <td>1.000000</td>\n      <td>1.000000</td>\n      <td>1.000000</td>\n      <td>1.000000</td>\n      <td>1.000000</td>\n      <td>8.000000</td>\n    </tr>\n    <tr>\n      <th>max</th>\n      <td>292.000000</td>\n      <td>1.000000</td>\n      <td>1.000000</td>\n      <td>1.000000</td>\n      <td>1.000000</td>\n      <td>1.000000</td>\n      <td>1.000000</td>\n      <td>1.000000</td>\n      <td>1.000000</td>\n      <td>1.000000</td>\n      <td>1.000000</td>\n      <td>10.000000</td>\n    </tr>\n  </tbody>\n</table>\n</div>"
     },
     "metadata": {},
     "execution_count": 5
    }
   ],
   "source": [
    "# This will print out a description of the dataframe\n",
    "data.describe()"
   ]
  },
  {
   "cell_type": "code",
   "execution_count": null,
   "metadata": {},
   "outputs": [],
   "source": []
  },
  {
   "cell_type": "markdown",
   "metadata": {},
   "source": [
    "### Data Preprocessing\n",
    "\n",
    "This dataset require multiple preprocessing processes. First, i  have removed columns in the DataFrame (attributes) that are not needed when training our neural network. I have drop columns first. Secondly, much of our data is reported using strings; as a result,  i have converted data to categorical labels. During preprocessing, i have split the dataset into X and Y  from datasets, where X has all of the attributes we want to use for prediction and Y has the class labels. "
   ]
  },
  {
   "cell_type": "code",
   "execution_count": 6,
   "metadata": {},
   "outputs": [],
   "source": [
    "# drop unwanted columns\n",
    "data = data.drop(['result', 'age_desc','id'], axis=1)"
   ]
  },
  {
   "cell_type": "code",
   "execution_count": 7,
   "metadata": {},
   "outputs": [
    {
     "output_type": "execute_result",
     "data": {
      "text/plain": "    A1_Score  A2_Score  A3_Score  A4_Score  A5_Score  A6_Score  A7_Score  \\\n0          1         1         0         0         1         1         0   \n1          1         1         0         0         1         1         0   \n2          1         1         0         0         0         1         1   \n3          0         1         0         0         1         1         0   \n4          1         1         1         1         1         1         1   \n5          0         0         1         0         1         1         0   \n6          1         0         1         1         1         1         0   \n7          1         1         1         1         1         1         1   \n8          1         1         1         1         1         1         1   \n9          0         0         1         1         1         0         1   \n10         1         0         0         0         1         1         1   \n\n    A8_Score  A9_Score  A10_Score age gender        ethnicity jundice austim  \\\n0          1         0          0   6      m           Others      no     no   \n1          1         0          0   6      m  Middle Eastern       no     no   \n2          1         0          0   6      m                ?      no     no   \n3          0         0          1   5      f                ?     yes     no   \n4          1         1          1   5      m           Others     yes     no   \n5          1         0          1   4      m                ?      no    yes   \n6          1         0          1   5      m   White-European      no     no   \n7          1         0          0   5      f  Middle Eastern       no     no   \n8          0         0          0  11      f  Middle Eastern       no     no   \n9          1         0          0  11      f                ?      no    yes   \n10         1         1          1  10      m   White-European     yes     no   \n\n     contry_of_res used_app_before relation Class/ASD  \n0           Jordan              no   Parent        NO  \n1           Jordan              no   Parent        NO  \n2           Jordan             yes        ?        NO  \n3           Jordan              no        ?        NO  \n4    United States              no   Parent       YES  \n5            Egypt              no        ?        NO  \n6   United Kingdom              no   Parent       YES  \n7          Bahrain              no   Parent       YES  \n8          Bahrain              no   Parent       YES  \n9          Austria              no        ?        NO  \n10  United Kingdom              no     Self       YES  ",
      "text/html": "<div>\n<style scoped>\n    .dataframe tbody tr th:only-of-type {\n        vertical-align: middle;\n    }\n\n    .dataframe tbody tr th {\n        vertical-align: top;\n    }\n\n    .dataframe thead th {\n        text-align: right;\n    }\n</style>\n<table border=\"1\" class=\"dataframe\">\n  <thead>\n    <tr style=\"text-align: right;\">\n      <th></th>\n      <th>A1_Score</th>\n      <th>A2_Score</th>\n      <th>A3_Score</th>\n      <th>A4_Score</th>\n      <th>A5_Score</th>\n      <th>A6_Score</th>\n      <th>A7_Score</th>\n      <th>A8_Score</th>\n      <th>A9_Score</th>\n      <th>A10_Score</th>\n      <th>age</th>\n      <th>gender</th>\n      <th>ethnicity</th>\n      <th>jundice</th>\n      <th>austim</th>\n      <th>contry_of_res</th>\n      <th>used_app_before</th>\n      <th>relation</th>\n      <th>Class/ASD</th>\n    </tr>\n  </thead>\n  <tbody>\n    <tr>\n      <th>0</th>\n      <td>1</td>\n      <td>1</td>\n      <td>0</td>\n      <td>0</td>\n      <td>1</td>\n      <td>1</td>\n      <td>0</td>\n      <td>1</td>\n      <td>0</td>\n      <td>0</td>\n      <td>6</td>\n      <td>m</td>\n      <td>Others</td>\n      <td>no</td>\n      <td>no</td>\n      <td>Jordan</td>\n      <td>no</td>\n      <td>Parent</td>\n      <td>NO</td>\n    </tr>\n    <tr>\n      <th>1</th>\n      <td>1</td>\n      <td>1</td>\n      <td>0</td>\n      <td>0</td>\n      <td>1</td>\n      <td>1</td>\n      <td>0</td>\n      <td>1</td>\n      <td>0</td>\n      <td>0</td>\n      <td>6</td>\n      <td>m</td>\n      <td>Middle Eastern</td>\n      <td>no</td>\n      <td>no</td>\n      <td>Jordan</td>\n      <td>no</td>\n      <td>Parent</td>\n      <td>NO</td>\n    </tr>\n    <tr>\n      <th>2</th>\n      <td>1</td>\n      <td>1</td>\n      <td>0</td>\n      <td>0</td>\n      <td>0</td>\n      <td>1</td>\n      <td>1</td>\n      <td>1</td>\n      <td>0</td>\n      <td>0</td>\n      <td>6</td>\n      <td>m</td>\n      <td>?</td>\n      <td>no</td>\n      <td>no</td>\n      <td>Jordan</td>\n      <td>yes</td>\n      <td>?</td>\n      <td>NO</td>\n    </tr>\n    <tr>\n      <th>3</th>\n      <td>0</td>\n      <td>1</td>\n      <td>0</td>\n      <td>0</td>\n      <td>1</td>\n      <td>1</td>\n      <td>0</td>\n      <td>0</td>\n      <td>0</td>\n      <td>1</td>\n      <td>5</td>\n      <td>f</td>\n      <td>?</td>\n      <td>yes</td>\n      <td>no</td>\n      <td>Jordan</td>\n      <td>no</td>\n      <td>?</td>\n      <td>NO</td>\n    </tr>\n    <tr>\n      <th>4</th>\n      <td>1</td>\n      <td>1</td>\n      <td>1</td>\n      <td>1</td>\n      <td>1</td>\n      <td>1</td>\n      <td>1</td>\n      <td>1</td>\n      <td>1</td>\n      <td>1</td>\n      <td>5</td>\n      <td>m</td>\n      <td>Others</td>\n      <td>yes</td>\n      <td>no</td>\n      <td>United States</td>\n      <td>no</td>\n      <td>Parent</td>\n      <td>YES</td>\n    </tr>\n    <tr>\n      <th>5</th>\n      <td>0</td>\n      <td>0</td>\n      <td>1</td>\n      <td>0</td>\n      <td>1</td>\n      <td>1</td>\n      <td>0</td>\n      <td>1</td>\n      <td>0</td>\n      <td>1</td>\n      <td>4</td>\n      <td>m</td>\n      <td>?</td>\n      <td>no</td>\n      <td>yes</td>\n      <td>Egypt</td>\n      <td>no</td>\n      <td>?</td>\n      <td>NO</td>\n    </tr>\n    <tr>\n      <th>6</th>\n      <td>1</td>\n      <td>0</td>\n      <td>1</td>\n      <td>1</td>\n      <td>1</td>\n      <td>1</td>\n      <td>0</td>\n      <td>1</td>\n      <td>0</td>\n      <td>1</td>\n      <td>5</td>\n      <td>m</td>\n      <td>White-European</td>\n      <td>no</td>\n      <td>no</td>\n      <td>United Kingdom</td>\n      <td>no</td>\n      <td>Parent</td>\n      <td>YES</td>\n    </tr>\n    <tr>\n      <th>7</th>\n      <td>1</td>\n      <td>1</td>\n      <td>1</td>\n      <td>1</td>\n      <td>1</td>\n      <td>1</td>\n      <td>1</td>\n      <td>1</td>\n      <td>0</td>\n      <td>0</td>\n      <td>5</td>\n      <td>f</td>\n      <td>Middle Eastern</td>\n      <td>no</td>\n      <td>no</td>\n      <td>Bahrain</td>\n      <td>no</td>\n      <td>Parent</td>\n      <td>YES</td>\n    </tr>\n    <tr>\n      <th>8</th>\n      <td>1</td>\n      <td>1</td>\n      <td>1</td>\n      <td>1</td>\n      <td>1</td>\n      <td>1</td>\n      <td>1</td>\n      <td>0</td>\n      <td>0</td>\n      <td>0</td>\n      <td>11</td>\n      <td>f</td>\n      <td>Middle Eastern</td>\n      <td>no</td>\n      <td>no</td>\n      <td>Bahrain</td>\n      <td>no</td>\n      <td>Parent</td>\n      <td>YES</td>\n    </tr>\n    <tr>\n      <th>9</th>\n      <td>0</td>\n      <td>0</td>\n      <td>1</td>\n      <td>1</td>\n      <td>1</td>\n      <td>0</td>\n      <td>1</td>\n      <td>1</td>\n      <td>0</td>\n      <td>0</td>\n      <td>11</td>\n      <td>f</td>\n      <td>?</td>\n      <td>no</td>\n      <td>yes</td>\n      <td>Austria</td>\n      <td>no</td>\n      <td>?</td>\n      <td>NO</td>\n    </tr>\n    <tr>\n      <th>10</th>\n      <td>1</td>\n      <td>0</td>\n      <td>0</td>\n      <td>0</td>\n      <td>1</td>\n      <td>1</td>\n      <td>1</td>\n      <td>1</td>\n      <td>1</td>\n      <td>1</td>\n      <td>10</td>\n      <td>m</td>\n      <td>White-European</td>\n      <td>yes</td>\n      <td>no</td>\n      <td>United Kingdom</td>\n      <td>no</td>\n      <td>Self</td>\n      <td>YES</td>\n    </tr>\n  </tbody>\n</table>\n</div>"
     },
     "metadata": {},
     "execution_count": 7
    }
   ],
   "source": [
    "data.loc[:10]"
   ]
  },
  {
   "cell_type": "code",
   "execution_count": 8,
   "metadata": {},
   "outputs": [],
   "source": [
    "# Process of creating X and Y datasets for training\n",
    "\n",
    "x = data.drop(['Class/ASD'], 1)\n",
    "y = data['Class/ASD']"
   ]
  },
  {
   "cell_type": "code",
   "execution_count": 9,
   "metadata": {},
   "outputs": [
    {
     "output_type": "execute_result",
     "data": {
      "text/plain": "    A1_Score  A2_Score  A3_Score  A4_Score  A5_Score  A6_Score  A7_Score  \\\n0          1         1         0         0         1         1         0   \n1          1         1         0         0         1         1         0   \n2          1         1         0         0         0         1         1   \n3          0         1         0         0         1         1         0   \n4          1         1         1         1         1         1         1   \n5          0         0         1         0         1         1         0   \n6          1         0         1         1         1         1         0   \n7          1         1         1         1         1         1         1   \n8          1         1         1         1         1         1         1   \n9          0         0         1         1         1         0         1   \n10         1         0         0         0         1         1         1   \n\n    A8_Score  A9_Score  A10_Score age gender        ethnicity jundice austim  \\\n0          1         0          0   6      m           Others      no     no   \n1          1         0          0   6      m  Middle Eastern       no     no   \n2          1         0          0   6      m                ?      no     no   \n3          0         0          1   5      f                ?     yes     no   \n4          1         1          1   5      m           Others     yes     no   \n5          1         0          1   4      m                ?      no    yes   \n6          1         0          1   5      m   White-European      no     no   \n7          1         0          0   5      f  Middle Eastern       no     no   \n8          0         0          0  11      f  Middle Eastern       no     no   \n9          1         0          0  11      f                ?      no    yes   \n10         1         1          1  10      m   White-European     yes     no   \n\n     contry_of_res used_app_before relation  \n0           Jordan              no   Parent  \n1           Jordan              no   Parent  \n2           Jordan             yes        ?  \n3           Jordan              no        ?  \n4    United States              no   Parent  \n5            Egypt              no        ?  \n6   United Kingdom              no   Parent  \n7          Bahrain              no   Parent  \n8          Bahrain              no   Parent  \n9          Austria              no        ?  \n10  United Kingdom              no     Self  ",
      "text/html": "<div>\n<style scoped>\n    .dataframe tbody tr th:only-of-type {\n        vertical-align: middle;\n    }\n\n    .dataframe tbody tr th {\n        vertical-align: top;\n    }\n\n    .dataframe thead th {\n        text-align: right;\n    }\n</style>\n<table border=\"1\" class=\"dataframe\">\n  <thead>\n    <tr style=\"text-align: right;\">\n      <th></th>\n      <th>A1_Score</th>\n      <th>A2_Score</th>\n      <th>A3_Score</th>\n      <th>A4_Score</th>\n      <th>A5_Score</th>\n      <th>A6_Score</th>\n      <th>A7_Score</th>\n      <th>A8_Score</th>\n      <th>A9_Score</th>\n      <th>A10_Score</th>\n      <th>age</th>\n      <th>gender</th>\n      <th>ethnicity</th>\n      <th>jundice</th>\n      <th>austim</th>\n      <th>contry_of_res</th>\n      <th>used_app_before</th>\n      <th>relation</th>\n    </tr>\n  </thead>\n  <tbody>\n    <tr>\n      <th>0</th>\n      <td>1</td>\n      <td>1</td>\n      <td>0</td>\n      <td>0</td>\n      <td>1</td>\n      <td>1</td>\n      <td>0</td>\n      <td>1</td>\n      <td>0</td>\n      <td>0</td>\n      <td>6</td>\n      <td>m</td>\n      <td>Others</td>\n      <td>no</td>\n      <td>no</td>\n      <td>Jordan</td>\n      <td>no</td>\n      <td>Parent</td>\n    </tr>\n    <tr>\n      <th>1</th>\n      <td>1</td>\n      <td>1</td>\n      <td>0</td>\n      <td>0</td>\n      <td>1</td>\n      <td>1</td>\n      <td>0</td>\n      <td>1</td>\n      <td>0</td>\n      <td>0</td>\n      <td>6</td>\n      <td>m</td>\n      <td>Middle Eastern</td>\n      <td>no</td>\n      <td>no</td>\n      <td>Jordan</td>\n      <td>no</td>\n      <td>Parent</td>\n    </tr>\n    <tr>\n      <th>2</th>\n      <td>1</td>\n      <td>1</td>\n      <td>0</td>\n      <td>0</td>\n      <td>0</td>\n      <td>1</td>\n      <td>1</td>\n      <td>1</td>\n      <td>0</td>\n      <td>0</td>\n      <td>6</td>\n      <td>m</td>\n      <td>?</td>\n      <td>no</td>\n      <td>no</td>\n      <td>Jordan</td>\n      <td>yes</td>\n      <td>?</td>\n    </tr>\n    <tr>\n      <th>3</th>\n      <td>0</td>\n      <td>1</td>\n      <td>0</td>\n      <td>0</td>\n      <td>1</td>\n      <td>1</td>\n      <td>0</td>\n      <td>0</td>\n      <td>0</td>\n      <td>1</td>\n      <td>5</td>\n      <td>f</td>\n      <td>?</td>\n      <td>yes</td>\n      <td>no</td>\n      <td>Jordan</td>\n      <td>no</td>\n      <td>?</td>\n    </tr>\n    <tr>\n      <th>4</th>\n      <td>1</td>\n      <td>1</td>\n      <td>1</td>\n      <td>1</td>\n      <td>1</td>\n      <td>1</td>\n      <td>1</td>\n      <td>1</td>\n      <td>1</td>\n      <td>1</td>\n      <td>5</td>\n      <td>m</td>\n      <td>Others</td>\n      <td>yes</td>\n      <td>no</td>\n      <td>United States</td>\n      <td>no</td>\n      <td>Parent</td>\n    </tr>\n    <tr>\n      <th>5</th>\n      <td>0</td>\n      <td>0</td>\n      <td>1</td>\n      <td>0</td>\n      <td>1</td>\n      <td>1</td>\n      <td>0</td>\n      <td>1</td>\n      <td>0</td>\n      <td>1</td>\n      <td>4</td>\n      <td>m</td>\n      <td>?</td>\n      <td>no</td>\n      <td>yes</td>\n      <td>Egypt</td>\n      <td>no</td>\n      <td>?</td>\n    </tr>\n    <tr>\n      <th>6</th>\n      <td>1</td>\n      <td>0</td>\n      <td>1</td>\n      <td>1</td>\n      <td>1</td>\n      <td>1</td>\n      <td>0</td>\n      <td>1</td>\n      <td>0</td>\n      <td>1</td>\n      <td>5</td>\n      <td>m</td>\n      <td>White-European</td>\n      <td>no</td>\n      <td>no</td>\n      <td>United Kingdom</td>\n      <td>no</td>\n      <td>Parent</td>\n    </tr>\n    <tr>\n      <th>7</th>\n      <td>1</td>\n      <td>1</td>\n      <td>1</td>\n      <td>1</td>\n      <td>1</td>\n      <td>1</td>\n      <td>1</td>\n      <td>1</td>\n      <td>0</td>\n      <td>0</td>\n      <td>5</td>\n      <td>f</td>\n      <td>Middle Eastern</td>\n      <td>no</td>\n      <td>no</td>\n      <td>Bahrain</td>\n      <td>no</td>\n      <td>Parent</td>\n    </tr>\n    <tr>\n      <th>8</th>\n      <td>1</td>\n      <td>1</td>\n      <td>1</td>\n      <td>1</td>\n      <td>1</td>\n      <td>1</td>\n      <td>1</td>\n      <td>0</td>\n      <td>0</td>\n      <td>0</td>\n      <td>11</td>\n      <td>f</td>\n      <td>Middle Eastern</td>\n      <td>no</td>\n      <td>no</td>\n      <td>Bahrain</td>\n      <td>no</td>\n      <td>Parent</td>\n    </tr>\n    <tr>\n      <th>9</th>\n      <td>0</td>\n      <td>0</td>\n      <td>1</td>\n      <td>1</td>\n      <td>1</td>\n      <td>0</td>\n      <td>1</td>\n      <td>1</td>\n      <td>0</td>\n      <td>0</td>\n      <td>11</td>\n      <td>f</td>\n      <td>?</td>\n      <td>no</td>\n      <td>yes</td>\n      <td>Austria</td>\n      <td>no</td>\n      <td>?</td>\n    </tr>\n    <tr>\n      <th>10</th>\n      <td>1</td>\n      <td>0</td>\n      <td>0</td>\n      <td>0</td>\n      <td>1</td>\n      <td>1</td>\n      <td>1</td>\n      <td>1</td>\n      <td>1</td>\n      <td>1</td>\n      <td>10</td>\n      <td>m</td>\n      <td>White-European</td>\n      <td>yes</td>\n      <td>no</td>\n      <td>United Kingdom</td>\n      <td>no</td>\n      <td>Self</td>\n    </tr>\n  </tbody>\n</table>\n</div>"
     },
     "metadata": {},
     "execution_count": 9
    }
   ],
   "source": [
    "x.loc[:10]"
   ]
  },
  {
   "cell_type": "code",
   "execution_count": 10,
   "metadata": {},
   "outputs": [],
   "source": [
    "# to convert the data to categorical values useing one-hot-encoded vectors\n",
    "X = pd.get_dummies(x)"
   ]
  },
  {
   "cell_type": "code",
   "execution_count": 11,
   "metadata": {},
   "outputs": [
    {
     "output_type": "execute_result",
     "data": {
      "text/plain": "array(['A1_Score', 'A2_Score', 'A3_Score', 'A4_Score', 'A5_Score',\n       'A6_Score', 'A7_Score', 'A8_Score', 'A9_Score', 'A10_Score',\n       'age_10', 'age_11', 'age_4', 'age_5', 'age_6', 'age_7', 'age_8',\n       'age_9', 'age_?', 'gender_f', 'gender_m', 'ethnicity_?',\n       'ethnicity_Asian', 'ethnicity_Black', 'ethnicity_Hispanic',\n       'ethnicity_Latino', 'ethnicity_Middle Eastern ',\n       'ethnicity_Others', 'ethnicity_Pasifika', 'ethnicity_South Asian',\n       'ethnicity_Turkish', 'ethnicity_White-European', 'jundice_no',\n       'jundice_yes', 'austim_no', 'austim_yes',\n       'contry_of_res_Afghanistan', 'contry_of_res_Argentina',\n       'contry_of_res_Armenia', 'contry_of_res_Australia',\n       'contry_of_res_Austria', 'contry_of_res_Bahrain',\n       'contry_of_res_Bangladesh', 'contry_of_res_Bhutan',\n       'contry_of_res_Brazil', 'contry_of_res_Bulgaria',\n       'contry_of_res_Canada', 'contry_of_res_China',\n       'contry_of_res_Costa Rica', 'contry_of_res_Egypt',\n       'contry_of_res_Europe', 'contry_of_res_Georgia',\n       'contry_of_res_Germany', 'contry_of_res_Ghana',\n       'contry_of_res_India', 'contry_of_res_Iraq',\n       'contry_of_res_Ireland', 'contry_of_res_Isle of Man',\n       'contry_of_res_Italy', 'contry_of_res_Japan',\n       'contry_of_res_Jordan', 'contry_of_res_Kuwait',\n       'contry_of_res_Latvia', 'contry_of_res_Lebanon',\n       'contry_of_res_Libya', 'contry_of_res_Malaysia',\n       'contry_of_res_Malta', 'contry_of_res_Mexico',\n       'contry_of_res_Nepal', 'contry_of_res_Netherlands',\n       'contry_of_res_New Zealand', 'contry_of_res_Nigeria',\n       'contry_of_res_Oman', 'contry_of_res_Pakistan',\n       'contry_of_res_Philippines', 'contry_of_res_Qatar',\n       'contry_of_res_Romania', 'contry_of_res_Russia',\n       'contry_of_res_Saudi Arabia', 'contry_of_res_South Africa',\n       'contry_of_res_South Korea', 'contry_of_res_Sweden',\n       'contry_of_res_Syria', 'contry_of_res_Turkey',\n       'contry_of_res_U.S. Outlying Islands',\n       'contry_of_res_United Arab Emirates',\n       'contry_of_res_United Kingdom', 'contry_of_res_United States',\n       'used_app_before_no', 'used_app_before_yes', 'relation_?',\n       'relation_Health care professional', 'relation_Parent',\n       'relation_Relative', 'relation_Self', 'relation_self'],\n      dtype=object)"
     },
     "metadata": {},
     "execution_count": 11
    }
   ],
   "source": [
    "# printing the new categorical column labels\n",
    "X.columns.values"
   ]
  },
  {
   "cell_type": "code",
   "execution_count": 12,
   "metadata": {},
   "outputs": [
    {
     "output_type": "execute_result",
     "data": {
      "text/plain": "A1_Score                             1\nA2_Score                             1\nA3_Score                             0\nA4_Score                             0\nA5_Score                             1\n                                    ..\nrelation_Health care professional    0\nrelation_Parent                      1\nrelation_Relative                    0\nrelation_Self                        0\nrelation_self                        0\nName: 1, Length: 96, dtype: int64"
     },
     "metadata": {},
     "execution_count": 12
    }
   ],
   "source": [
    "# printing the example patient from the categorical data\n",
    "X.loc[1]"
   ]
  },
  {
   "cell_type": "code",
   "execution_count": 13,
   "metadata": {
    "tags": []
   },
   "outputs": [
    {
     "output_type": "stream",
     "name": "stdout",
     "text": "0       NO\n1       NO\n2       NO\n3       NO\n4      YES\n      ... \n287    YES\n288     NO\n289    YES\n290    YES\n291     NO\nName: Class/ASD, Length: 292, dtype: object\n"
    }
   ],
   "source": [
    "# converting the class data to categorical values - one-hot-encoded vectors\n",
    "print(y)\n",
    "Y = pd.get_dummies(y)#,drop_first=True)"
   ]
  },
  {
   "cell_type": "code",
   "execution_count": 14,
   "metadata": {},
   "outputs": [
    {
     "output_type": "execute_result",
     "data": {
      "text/plain": "   NO  YES\n0   1    0\n1   1    0\n2   1    0\n3   1    0\n4   0    1\n5   1    0\n6   0    1\n7   0    1\n8   0    1\n9   1    0",
      "text/html": "<div>\n<style scoped>\n    .dataframe tbody tr th:only-of-type {\n        vertical-align: middle;\n    }\n\n    .dataframe tbody tr th {\n        vertical-align: top;\n    }\n\n    .dataframe thead th {\n        text-align: right;\n    }\n</style>\n<table border=\"1\" class=\"dataframe\">\n  <thead>\n    <tr style=\"text-align: right;\">\n      <th></th>\n      <th>NO</th>\n      <th>YES</th>\n    </tr>\n  </thead>\n  <tbody>\n    <tr>\n      <th>0</th>\n      <td>1</td>\n      <td>0</td>\n    </tr>\n    <tr>\n      <th>1</th>\n      <td>1</td>\n      <td>0</td>\n    </tr>\n    <tr>\n      <th>2</th>\n      <td>1</td>\n      <td>0</td>\n    </tr>\n    <tr>\n      <th>3</th>\n      <td>1</td>\n      <td>0</td>\n    </tr>\n    <tr>\n      <th>4</th>\n      <td>0</td>\n      <td>1</td>\n    </tr>\n    <tr>\n      <th>5</th>\n      <td>1</td>\n      <td>0</td>\n    </tr>\n    <tr>\n      <th>6</th>\n      <td>0</td>\n      <td>1</td>\n    </tr>\n    <tr>\n      <th>7</th>\n      <td>0</td>\n      <td>1</td>\n    </tr>\n    <tr>\n      <th>8</th>\n      <td>0</td>\n      <td>1</td>\n    </tr>\n    <tr>\n      <th>9</th>\n      <td>1</td>\n      <td>0</td>\n    </tr>\n  </tbody>\n</table>\n</div>"
     },
     "metadata": {},
     "execution_count": 14
    }
   ],
   "source": [
    "Y.iloc[:10,]\n"
   ]
  },
  {
   "cell_type": "markdown",
   "metadata": {},
   "source": [
    "### Split the Dataset into Training and Testing Datasets\n",
    "\n",
    "Before training our neural network, the spliting of dataset into training and testing datasets need to be done. This will allow us to test our network after we are done training to determine how well it will generalize to new data. This step is incredibly easy when using the train_test_split() function present in scikit-learn!"
   ]
  },
  {
   "cell_type": "code",
   "execution_count": 15,
   "metadata": {
    "tags": []
   },
   "outputs": [
    {
     "output_type": "stream",
     "name": "stdout",
     "text": "     NO  YES\n135   1    0\n41    1    0\n54    1    0\n256   1    0\n220   0    1\n..   ..  ...\n66    1    0\n194   1    0\n99    1    0\n272   1    0\n116   0    1\n\n[233 rows x 2 columns]\n"
    }
   ],
   "source": [
    "from sklearn import model_selection\n",
    "# split the X and Y data into training and testing datasets\n",
    "X_train, X_test, Y_train, Y_test = model_selection.train_test_split(X,Y, test_size = 0.2)\n",
    "print(Y_train)"
   ]
  },
  {
   "cell_type": "code",
   "execution_count": 16,
   "metadata": {
    "tags": []
   },
   "outputs": [
    {
     "output_type": "stream",
     "name": "stdout",
     "text": "(233, 96)\n(59, 96)\n(233, 2)\n(59, 2)\n"
    }
   ],
   "source": [
    "print(X_train.shape)\n",
    "print(X_test.shape)\n",
    "print(Y_train.shape)\n",
    "print(Y_test.shape)"
   ]
  },
  {
   "cell_type": "markdown",
   "metadata": {},
   "source": [
    "### Building the Network - Keras\n",
    "\n",
    "In this project, i have used Keras to build and train the network. This model will be relatively simple and will only use dense (also known as fully connected) layers. This is the most common neural network layer. The network will have one hidden layer, use an Adam optimizer, and a categorical crossentropy loss."
   ]
  },
  {
   "cell_type": "code",
   "execution_count": 17,
   "metadata": {
    "tags": []
   },
   "outputs": [
    {
     "output_type": "stream",
     "name": "stdout",
     "text": "Model: \"sequential\"\n_________________________________________________________________\nLayer (type)                 Output Shape              Param #   \n=================================================================\ndense (Dense)                (None, 8)                 776       \n_________________________________________________________________\ndense_1 (Dense)              (None, 4)                 36        \n_________________________________________________________________\ndense_2 (Dense)              (None, 2)                 10        \n_________________________________________________________________\ndropout (Dropout)            (None, 2)                 0         \n_________________________________________________________________\nactivation (Activation)      (None, 2)                 0         \n=================================================================\nTotal params: 822\nTrainable params: 822\nNon-trainable params: 0\n_________________________________________________________________\nNone\n"
    }
   ],
   "source": [
    "#  Building the Network with Keras\n",
    "\n",
    "from keras.models import Sequential\n",
    "from keras.layers import Dense, Dropout,Activation\n",
    "from keras.optimizers import Adam\n",
    "\n",
    "# # define a function to build the keras model\n",
    "# def create_model():\n",
    "    # create model\n",
    "model = Sequential()\n",
    "model.add(Dense(8, input_dim=96, kernel_initializer='normal', activation='relu'))\n",
    "model.add(Dense(4, kernel_initializer='normal', activation='relu'))\n",
    "model.add(Dense(2, activation='sigmoid'))\n",
    "model.add(Dropout(0.25))\n",
    "model.add(Activation('softmax'))\n",
    "# compile model\n",
    "adam = Adam(lr=0.001)\n",
    "model.compile(loss='categorical_crossentropy', optimizer=adam, metrics=['accuracy'])\n",
    "# return model\n",
    "\n",
    "\n",
    "print(model.summary())"
   ]
  },
  {
   "cell_type": "markdown",
   "metadata": {},
   "source": [
    "### Training the Network\n",
    "\n",
    "Now it's time to train, Training a Keras model is as simple as calling model.fit()."
   ]
  },
  {
   "cell_type": "code",
   "execution_count": 18,
   "metadata": {
    "tags": []
   },
   "outputs": [
    {
     "output_type": "stream",
     "name": "stdout",
     "text": "Epoch 1/100\n16/16 [==============================] - 0s 2ms/step - loss: 0.6996 - accuracy: 0.5150\nEpoch 2/100\n16/16 [==============================] - 0s 1ms/step - loss: 0.6927 - accuracy: 0.5579\nEpoch 3/100\n16/16 [==============================] - 0s 2ms/step - loss: 0.6904 - accuracy: 0.5665\nEpoch 4/100\n16/16 [==============================] - 0s 2ms/step - loss: 0.7184 - accuracy: 0.4936\nEpoch 5/100\n16/16 [==============================] - 0s 2ms/step - loss: 0.7134 - accuracy: 0.5107\nEpoch 6/100\n16/16 [==============================] - 0s 2ms/step - loss: 0.7228 - accuracy: 0.4721\nEpoch 7/100\n16/16 [==============================] - 0s 1ms/step - loss: 0.7154 - accuracy: 0.5322\nEpoch 8/100\n16/16 [==============================] - 0s 1ms/step - loss: 0.7115 - accuracy: 0.5837\nEpoch 9/100\n16/16 [==============================] - 0s 2ms/step - loss: 0.7025 - accuracy: 0.6137\nEpoch 10/100\n16/16 [==============================] - 0s 2ms/step - loss: 0.6988 - accuracy: 0.5966\nEpoch 11/100\n16/16 [==============================] - 0s 2ms/step - loss: 0.6747 - accuracy: 0.6137\nEpoch 12/100\n16/16 [==============================] - 0s 2ms/step - loss: 0.6670 - accuracy: 0.6180\nEpoch 13/100\n16/16 [==============================] - 0s 2ms/step - loss: 0.6545 - accuracy: 0.6352\nEpoch 14/100\n16/16 [==============================] - 0s 2ms/step - loss: 0.6485 - accuracy: 0.6309\nEpoch 15/100\n16/16 [==============================] - 0s 2ms/step - loss: 0.6255 - accuracy: 0.6738\nEpoch 16/100\n16/16 [==============================] - 0s 2ms/step - loss: 0.6321 - accuracy: 0.6352\nEpoch 17/100\n16/16 [==============================] - 0s 2ms/step - loss: 0.6028 - accuracy: 0.6824\nEpoch 18/100\n16/16 [==============================] - 0s 2ms/step - loss: 0.5919 - accuracy: 0.7210\nEpoch 19/100\n16/16 [==============================] - 0s 2ms/step - loss: 0.5890 - accuracy: 0.6824\nEpoch 20/100\n16/16 [==============================] - 0s 2ms/step - loss: 0.5700 - accuracy: 0.7339\nEpoch 21/100\n16/16 [==============================] - 0s 2ms/step - loss: 0.5879 - accuracy: 0.6695\nEpoch 22/100\n16/16 [==============================] - 0s 2ms/step - loss: 0.5848 - accuracy: 0.6781\nEpoch 23/100\n16/16 [==============================] - 0s 1ms/step - loss: 0.5672 - accuracy: 0.7382\nEpoch 24/100\n16/16 [==============================] - 0s 2ms/step - loss: 0.5697 - accuracy: 0.7210\nEpoch 25/100\n16/16 [==============================] - 0s 2ms/step - loss: 0.5325 - accuracy: 0.7511\nEpoch 26/100\n16/16 [==============================] - 0s 2ms/step - loss: 0.5234 - accuracy: 0.7554\nEpoch 27/100\n16/16 [==============================] - 0s 2ms/step - loss: 0.5066 - accuracy: 0.8026\nEpoch 28/100\n16/16 [==============================] - 0s 2ms/step - loss: 0.5367 - accuracy: 0.7425\nEpoch 29/100\n16/16 [==============================] - 0s 1ms/step - loss: 0.5122 - accuracy: 0.7511\nEpoch 30/100\n16/16 [==============================] - 0s 1ms/step - loss: 0.5294 - accuracy: 0.7167\nEpoch 31/100\n16/16 [==============================] - 0s 1ms/step - loss: 0.5221 - accuracy: 0.7382\nEpoch 32/100\n16/16 [==============================] - 0s 1ms/step - loss: 0.5123 - accuracy: 0.7554\nEpoch 33/100\n16/16 [==============================] - 0s 997us/step - loss: 0.5029 - accuracy: 0.7597\nEpoch 34/100\n16/16 [==============================] - 0s 997us/step - loss: 0.4912 - accuracy: 0.7854\nEpoch 35/100\n16/16 [==============================] - 0s 1ms/step - loss: 0.5024 - accuracy: 0.7725\nEpoch 36/100\n16/16 [==============================] - 0s 997us/step - loss: 0.4924 - accuracy: 0.7468\nEpoch 37/100\n16/16 [==============================] - 0s 935us/step - loss: 0.4937 - accuracy: 0.7682\nEpoch 38/100\n16/16 [==============================] - 0s 1ms/step - loss: 0.4851 - accuracy: 0.7597\nEpoch 39/100\n16/16 [==============================] - 0s 1ms/step - loss: 0.4811 - accuracy: 0.7597\nEpoch 40/100\n16/16 [==============================] - 0s 1ms/step - loss: 0.4719 - accuracy: 0.7597\nEpoch 41/100\n16/16 [==============================] - 0s 2ms/step - loss: 0.4640 - accuracy: 0.7897\nEpoch 42/100\n16/16 [==============================] - 0s 2ms/step - loss: 0.4546 - accuracy: 0.8112\nEpoch 43/100\n16/16 [==============================] - 0s 1ms/step - loss: 0.4599 - accuracy: 0.7768\nEpoch 44/100\n16/16 [==============================] - 0s 2ms/step - loss: 0.4501 - accuracy: 0.7768\nEpoch 45/100\n16/16 [==============================] - 0s 2ms/step - loss: 0.4490 - accuracy: 0.7725\nEpoch 46/100\n16/16 [==============================] - 0s 2ms/step - loss: 0.4287 - accuracy: 0.8369\nEpoch 47/100\n16/16 [==============================] - 0s 1ms/step - loss: 0.4355 - accuracy: 0.7725\nEpoch 48/100\n16/16 [==============================] - 0s 2ms/step - loss: 0.4427 - accuracy: 0.7768\nEpoch 49/100\n16/16 [==============================] - 0s 2ms/step - loss: 0.4333 - accuracy: 0.7768\nEpoch 50/100\n16/16 [==============================] - 0s 2ms/step - loss: 0.4357 - accuracy: 0.7897\nEpoch 51/100\n16/16 [==============================] - 0s 1ms/step - loss: 0.4422 - accuracy: 0.7597\nEpoch 52/100\n16/16 [==============================] - 0s 1ms/step - loss: 0.4377 - accuracy: 0.7382\nEpoch 53/100\n16/16 [==============================] - 0s 1ms/step - loss: 0.4206 - accuracy: 0.7897\nEpoch 54/100\n16/16 [==============================] - 0s 1ms/step - loss: 0.4445 - accuracy: 0.7167\nEpoch 55/100\n16/16 [==============================] - 0s 2ms/step - loss: 0.4236 - accuracy: 0.7725\nEpoch 56/100\n16/16 [==============================] - 0s 2ms/step - loss: 0.4191 - accuracy: 0.7597\nEpoch 57/100\n16/16 [==============================] - 0s 2ms/step - loss: 0.4382 - accuracy: 0.7511\nEpoch 58/100\n16/16 [==============================] - 0s 1ms/step - loss: 0.4107 - accuracy: 0.7639\nEpoch 59/100\n16/16 [==============================] - 0s 1ms/step - loss: 0.4057 - accuracy: 0.7597\nEpoch 60/100\n16/16 [==============================] - 0s 2ms/step - loss: 0.4133 - accuracy: 0.7511\nEpoch 61/100\n16/16 [==============================] - 0s 2ms/step - loss: 0.3981 - accuracy: 0.7682\nEpoch 62/100\n16/16 [==============================] - 0s 1ms/step - loss: 0.4000 - accuracy: 0.7983\nEpoch 63/100\n16/16 [==============================] - 0s 1ms/step - loss: 0.3963 - accuracy: 0.7768\nEpoch 64/100\n16/16 [==============================] - 0s 1ms/step - loss: 0.3839 - accuracy: 0.7811\nEpoch 65/100\n16/16 [==============================] - 0s 997us/step - loss: 0.3901 - accuracy: 0.7811\nEpoch 66/100\n16/16 [==============================] - 0s 1ms/step - loss: 0.4027 - accuracy: 0.7854\nEpoch 67/100\n16/16 [==============================] - 0s 1ms/step - loss: 0.3675 - accuracy: 0.8069\nEpoch 68/100\n16/16 [==============================] - 0s 2ms/step - loss: 0.3645 - accuracy: 0.8112\nEpoch 69/100\n16/16 [==============================] - 0s 2ms/step - loss: 0.3833 - accuracy: 0.7768\nEpoch 70/100\n16/16 [==============================] - 0s 2ms/step - loss: 0.3812 - accuracy: 0.7854\nEpoch 71/100\n16/16 [==============================] - 0s 2ms/step - loss: 0.3761 - accuracy: 0.7983\nEpoch 72/100\n16/16 [==============================] - 0s 2ms/step - loss: 0.3627 - accuracy: 0.8369\nEpoch 73/100\n16/16 [==============================] - 0s 2ms/step - loss: 0.3793 - accuracy: 0.7897\nEpoch 74/100\n16/16 [==============================] - 0s 2ms/step - loss: 0.3594 - accuracy: 0.8112\nEpoch 75/100\n16/16 [==============================] - 0s 2ms/step - loss: 0.3974 - accuracy: 0.7425\nEpoch 76/100\n16/16 [==============================] - 0s 2ms/step - loss: 0.3745 - accuracy: 0.7554\nEpoch 77/100\n16/16 [==============================] - 0s 2ms/step - loss: 0.3493 - accuracy: 0.8541\nEpoch 78/100\n16/16 [==============================] - 0s 1ms/step - loss: 0.3451 - accuracy: 0.8412\nEpoch 79/100\n16/16 [==============================] - 0s 2ms/step - loss: 0.3741 - accuracy: 0.7725\nEpoch 80/100\n16/16 [==============================] - 0s 2ms/step - loss: 0.3543 - accuracy: 0.8112\nEpoch 81/100\n16/16 [==============================] - 0s 1ms/step - loss: 0.3871 - accuracy: 0.7296\nEpoch 82/100\n16/16 [==============================] - 0s 1ms/step - loss: 0.3679 - accuracy: 0.7725\nEpoch 83/100\n16/16 [==============================] - 0s 1ms/step - loss: 0.3716 - accuracy: 0.7897\nEpoch 84/100\n16/16 [==============================] - 0s 1ms/step - loss: 0.3779 - accuracy: 0.7597\nEpoch 85/100\n16/16 [==============================] - 0s 997us/step - loss: 0.3643 - accuracy: 0.7854\nEpoch 86/100\n16/16 [==============================] - 0s 1ms/step - loss: 0.3789 - accuracy: 0.7468\nEpoch 87/100\n16/16 [==============================] - 0s 1ms/step - loss: 0.3701 - accuracy: 0.7897\nEpoch 88/100\n16/16 [==============================] - 0s 1ms/step - loss: 0.3338 - accuracy: 0.8541\nEpoch 89/100\n16/16 [==============================] - 0s 1ms/step - loss: 0.3389 - accuracy: 0.8197\nEpoch 90/100\n16/16 [==============================] - 0s 1ms/step - loss: 0.3401 - accuracy: 0.8240\nEpoch 91/100\n16/16 [==============================] - 0s 1ms/step - loss: 0.3556 - accuracy: 0.7811\nEpoch 92/100\n16/16 [==============================] - 0s 1ms/step - loss: 0.3676 - accuracy: 0.7554\nEpoch 93/100\n16/16 [==============================] - 0s 997us/step - loss: 0.3567 - accuracy: 0.8026\nEpoch 94/100\n16/16 [==============================] - 0s 1ms/step - loss: 0.3444 - accuracy: 0.8240\nEpoch 95/100\n16/16 [==============================] - 0s 1ms/step - loss: 0.3706 - accuracy: 0.7682\nEpoch 96/100\n16/16 [==============================] - 0s 810us/step - loss: 0.3544 - accuracy: 0.7897\nEpoch 97/100\n16/16 [==============================] - 0s 748us/step - loss: 0.3535 - accuracy: 0.7940\nEpoch 98/100\n16/16 [==============================] - 0s 748us/step - loss: 0.3579 - accuracy: 0.7639\nEpoch 99/100\n16/16 [==============================] - 0s 810us/step - loss: 0.3790 - accuracy: 0.7468\nEpoch 100/100\n16/16 [==============================] - 0s 935us/step - loss: 0.3503 - accuracy: 0.8069\n"
    },
    {
     "output_type": "execute_result",
     "data": {
      "text/plain": "<tensorflow.python.keras.callbacks.History at 0x14ad2bc7108>"
     },
     "metadata": {},
     "execution_count": 18
    }
   ],
   "source": [
    "# fit the model to the training data\n",
    "model.fit(X_train, Y_train, epochs=100, batch_size=15, verbose = 1)"
   ]
  },
  {
   "cell_type": "markdown",
   "metadata": {},
   "source": [
    "### Testing and Performance Metrics\n",
    "\n",
    "Now that the model has been trained, the test of its performance on the testing dataset need to be performed. The model has never seen this information before; as a result, the testing dataset allows us to determine whether or not the model will be able to generalize to information that wasn't used during its training phase. We will use some of the metrics provided by scikit-learn to do this."
   ]
  },
  {
   "cell_type": "code",
   "execution_count": 19,
   "metadata": {
    "tags": []
   },
   "outputs": [
    {
     "output_type": "stream",
     "name": "stdout",
     "text": "WARNING:tensorflow:From <ipython-input-19-f2a53f8d1c57>:4: Sequential.predict_classes (from tensorflow.python.keras.engine.sequential) is deprecated and will be removed after 2021-01-01.\nInstructions for updating:\nPlease use instead:* `np.argmax(model.predict(x), axis=-1)`,   if your model does multi-class classification   (e.g. if it uses a `softmax` last-layer activation).* `(model.predict(x) > 0.5).astype(\"int32\")`,   if your model does binary classification   (e.g. if it uses a `sigmoid` last-layer activation).\n"
    },
    {
     "output_type": "execute_result",
     "data": {
      "text/plain": "array([0, 0, 1, 1, 1, 1, 1, 1, 0, 0, 1, 0, 1, 1, 0, 1, 0, 0, 0, 0, 0, 1,\n       1, 0, 0, 1, 0, 0, 0, 1, 0, 0, 0, 0, 0, 1, 0, 1, 0, 1, 0, 0, 1, 0,\n       1, 1, 1, 0, 1, 0, 1, 1, 1, 1, 0, 1, 1, 1, 1], dtype=int64)"
     },
     "metadata": {},
     "execution_count": 19
    }
   ],
   "source": [
    "# generate classification report using predictions for categorical model\n",
    "from sklearn.metrics import classification_report, accuracy_score\n",
    "\n",
    "predictions = model.predict_classes(X_test)\n",
    "predictions"
   ]
  },
  {
   "cell_type": "code",
   "execution_count": 20,
   "metadata": {
    "tags": []
   },
   "outputs": [
    {
     "output_type": "stream",
     "name": "stdout",
     "text": "Results for Categorical Model\n0.9491525423728814\n              precision    recall  f1-score   support\n\n           0       0.93      0.96      0.95        28\n           1       0.97      0.94      0.95        31\n\n    accuracy                           0.95        59\n   macro avg       0.95      0.95      0.95        59\nweighted avg       0.95      0.95      0.95        59\n\n"
    }
   ],
   "source": [
    "print('Results for Categorical Model')\n",
    "print(accuracy_score(Y_test[['YES']], predictions))\n",
    "print(classification_report(Y_test[['YES']], predictions))"
   ]
  },
  {
   "source": [
    "## This disorder even though it is also seen in adults the chances of it getting known is much better compared to infants and kids  incomparison, so i belive that that this project of mine shall be of some use and shall bring awareness amongst people in ower nation.\n",
    "# Thank You"
   ],
   "cell_type": "markdown",
   "metadata": {}
  }
 ],
 "metadata": {
  "kernelspec": {
   "name": "Python 3.7.8 64-bit",
   "display_name": "Python 3.7.8 64-bit",
   "metadata": {
    "interpreter": {
     "hash": "207fc6a9ac397c7c31757598a81c175c66e31832bb1f1ad17257d7d88ba24ce7"
    }
   }
  },
  "language_info": {
   "codemirror_mode": {
    "name": "ipython",
    "version": 2
   },
   "file_extension": ".py",
   "mimetype": "text/x-python",
   "name": "python",
   "nbconvert_exporter": "python",
   "pygments_lexer": "ipython2",
   "version": "3.7.8-final"
  }
 },
 "nbformat": 4,
 "nbformat_minor": 2
}